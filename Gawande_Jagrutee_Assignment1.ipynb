{
 "cells": [
  {
   "cell_type": "code",
   "execution_count": 164,
   "metadata": {},
   "outputs": [],
   "source": [
    "import pandas as pd\n",
    "import numpy as np\n",
    "from sklearn import datasets, linear_model\n",
    "from sklearn.model_selection import train_test_split\n",
    "from sklearn.preprocessing import MinMaxScaler\n",
    "from matplotlib import pyplot as plt"
   ]
  },
  {
   "cell_type": "code",
   "execution_count": 158,
   "metadata": {},
   "outputs": [
    {
     "data": {
      "text/html": [
       "<div>\n",
       "<style scoped>\n",
       "    .dataframe tbody tr th:only-of-type {\n",
       "        vertical-align: middle;\n",
       "    }\n",
       "\n",
       "    .dataframe tbody tr th {\n",
       "        vertical-align: top;\n",
       "    }\n",
       "\n",
       "    .dataframe thead th {\n",
       "        text-align: right;\n",
       "    }\n",
       "</style>\n",
       "<table border=\"1\" class=\"dataframe\">\n",
       "  <thead>\n",
       "    <tr style=\"text-align: right;\">\n",
       "      <th></th>\n",
       "      <th>school</th>\n",
       "      <th>sex</th>\n",
       "      <th>age</th>\n",
       "      <th>address</th>\n",
       "      <th>famsize</th>\n",
       "      <th>Pstatus</th>\n",
       "      <th>Medu</th>\n",
       "      <th>Fedu</th>\n",
       "      <th>Mjob</th>\n",
       "      <th>Fjob</th>\n",
       "      <th>...</th>\n",
       "      <th>famrel</th>\n",
       "      <th>freetime</th>\n",
       "      <th>goout</th>\n",
       "      <th>Dalc</th>\n",
       "      <th>Walc</th>\n",
       "      <th>health</th>\n",
       "      <th>absences</th>\n",
       "      <th>G1</th>\n",
       "      <th>G2</th>\n",
       "      <th>G3</th>\n",
       "    </tr>\n",
       "  </thead>\n",
       "  <tbody>\n",
       "    <tr>\n",
       "      <th>0</th>\n",
       "      <td>GP</td>\n",
       "      <td>F</td>\n",
       "      <td>18</td>\n",
       "      <td>U</td>\n",
       "      <td>GT3</td>\n",
       "      <td>A</td>\n",
       "      <td>4</td>\n",
       "      <td>4</td>\n",
       "      <td>at_home</td>\n",
       "      <td>teacher</td>\n",
       "      <td>...</td>\n",
       "      <td>4</td>\n",
       "      <td>3</td>\n",
       "      <td>4</td>\n",
       "      <td>1</td>\n",
       "      <td>1</td>\n",
       "      <td>3</td>\n",
       "      <td>6</td>\n",
       "      <td>5</td>\n",
       "      <td>6</td>\n",
       "      <td>6</td>\n",
       "    </tr>\n",
       "    <tr>\n",
       "      <th>1</th>\n",
       "      <td>GP</td>\n",
       "      <td>F</td>\n",
       "      <td>17</td>\n",
       "      <td>U</td>\n",
       "      <td>GT3</td>\n",
       "      <td>T</td>\n",
       "      <td>1</td>\n",
       "      <td>1</td>\n",
       "      <td>at_home</td>\n",
       "      <td>other</td>\n",
       "      <td>...</td>\n",
       "      <td>5</td>\n",
       "      <td>3</td>\n",
       "      <td>3</td>\n",
       "      <td>1</td>\n",
       "      <td>1</td>\n",
       "      <td>3</td>\n",
       "      <td>4</td>\n",
       "      <td>5</td>\n",
       "      <td>5</td>\n",
       "      <td>6</td>\n",
       "    </tr>\n",
       "    <tr>\n",
       "      <th>2</th>\n",
       "      <td>GP</td>\n",
       "      <td>F</td>\n",
       "      <td>15</td>\n",
       "      <td>U</td>\n",
       "      <td>LE3</td>\n",
       "      <td>T</td>\n",
       "      <td>1</td>\n",
       "      <td>1</td>\n",
       "      <td>at_home</td>\n",
       "      <td>other</td>\n",
       "      <td>...</td>\n",
       "      <td>4</td>\n",
       "      <td>3</td>\n",
       "      <td>2</td>\n",
       "      <td>2</td>\n",
       "      <td>3</td>\n",
       "      <td>3</td>\n",
       "      <td>10</td>\n",
       "      <td>7</td>\n",
       "      <td>8</td>\n",
       "      <td>10</td>\n",
       "    </tr>\n",
       "    <tr>\n",
       "      <th>3</th>\n",
       "      <td>GP</td>\n",
       "      <td>F</td>\n",
       "      <td>15</td>\n",
       "      <td>U</td>\n",
       "      <td>GT3</td>\n",
       "      <td>T</td>\n",
       "      <td>4</td>\n",
       "      <td>2</td>\n",
       "      <td>health</td>\n",
       "      <td>services</td>\n",
       "      <td>...</td>\n",
       "      <td>3</td>\n",
       "      <td>2</td>\n",
       "      <td>2</td>\n",
       "      <td>1</td>\n",
       "      <td>1</td>\n",
       "      <td>5</td>\n",
       "      <td>2</td>\n",
       "      <td>15</td>\n",
       "      <td>14</td>\n",
       "      <td>15</td>\n",
       "    </tr>\n",
       "    <tr>\n",
       "      <th>4</th>\n",
       "      <td>GP</td>\n",
       "      <td>F</td>\n",
       "      <td>16</td>\n",
       "      <td>U</td>\n",
       "      <td>GT3</td>\n",
       "      <td>T</td>\n",
       "      <td>3</td>\n",
       "      <td>3</td>\n",
       "      <td>other</td>\n",
       "      <td>other</td>\n",
       "      <td>...</td>\n",
       "      <td>4</td>\n",
       "      <td>3</td>\n",
       "      <td>2</td>\n",
       "      <td>1</td>\n",
       "      <td>2</td>\n",
       "      <td>5</td>\n",
       "      <td>4</td>\n",
       "      <td>6</td>\n",
       "      <td>10</td>\n",
       "      <td>10</td>\n",
       "    </tr>\n",
       "  </tbody>\n",
       "</table>\n",
       "<p>5 rows × 33 columns</p>\n",
       "</div>"
      ],
      "text/plain": [
       "  school sex  age address famsize Pstatus  Medu  Fedu     Mjob      Fjob ...  \\\n",
       "0     GP   F   18       U     GT3       A     4     4  at_home   teacher ...   \n",
       "1     GP   F   17       U     GT3       T     1     1  at_home     other ...   \n",
       "2     GP   F   15       U     LE3       T     1     1  at_home     other ...   \n",
       "3     GP   F   15       U     GT3       T     4     2   health  services ...   \n",
       "4     GP   F   16       U     GT3       T     3     3    other     other ...   \n",
       "\n",
       "  famrel freetime  goout  Dalc  Walc health absences  G1  G2  G3  \n",
       "0      4        3      4     1     1      3        6   5   6   6  \n",
       "1      5        3      3     1     1      3        4   5   5   6  \n",
       "2      4        3      2     2     3      3       10   7   8  10  \n",
       "3      3        2      2     1     1      5        2  15  14  15  \n",
       "4      4        3      2     1     2      5        4   6  10  10  \n",
       "\n",
       "[5 rows x 33 columns]"
      ]
     },
     "execution_count": 158,
     "metadata": {},
     "output_type": "execute_result"
    }
   ],
   "source": [
    "math_data = pd.read_csv('student-mat.csv') #importing data\n",
    "math_data.head()"
   ]
  },
  {
   "cell_type": "code",
   "execution_count": 132,
   "metadata": {},
   "outputs": [],
   "source": [
    "y = math_data.G3 # using G3 as the predicted variable\n",
    "x = math_data.drop(['G1', 'G2', 'G3', 'school', 'address'], axis=1)\n"
   ]
  },
  {
   "cell_type": "code",
   "execution_count": 202,
   "metadata": {},
   "outputs": [
    {
     "name": "stderr",
     "output_type": "stream",
     "text": [
      "C:\\Users\\Jagrutee\\Anaconda3_1\\lib\\site-packages\\pandas\\core\\generic.py:3643: SettingWithCopyWarning: \n",
      "A value is trying to be set on a copy of a slice from a DataFrame.\n",
      "Try using .loc[row_indexer,col_indexer] = value instead\n",
      "\n",
      "See the caveats in the documentation: http://pandas.pydata.org/pandas-docs/stable/indexing.html#indexing-view-versus-copy\n",
      "  self[name] = value\n"
     ]
    }
   ],
   "source": [
    "#Identify target variable y and predictor variables X.\n",
    "ym = math_data['G3']\n",
    "Xm = math_data[['school', 'sex', 'age', 'address', 'famsize', 'Pstatus', 'Medu', 'Fedu',\n",
    "       'Mjob', 'Fjob', 'reason', 'guardian', 'traveltime', 'studytime',\n",
    "       'failures', 'schoolsup', 'famsup', 'activities', 'nursery',\n",
    "       'higher', 'internet', 'romantic', 'famrel', 'freetime', 'goout',\n",
    "       'health', 'absences']]\n",
    "#Convert dummy variables values into 0/1.\n",
    "Xm.school = Xm['school'].replace(['GP', 'MS'], [1,0])\n",
    "Xm.sex = Xm['sex'].replace(['F','M'],[1,0])\n",
    "Xm.address = Xm['address'].replace(['U','R'], [1,0])\n",
    "Xm.famsize = Xm['famsize'].replace(['LE3','GT3'], [1,0])\n",
    "Xm.Pstatus = Xm['Pstatus'].replace(['T','A'], [1,0])\n",
    "Xm.schoolsup = Xm['schoolsup'].replace(['yes','no'],[1,0])\n",
    "Xm.famsup = Xm['famsup'].replace(['yes','no'],[1,0])\n",
    "Xm.activities = Xm['activities'].replace(['yes','no'],[1,0])\n",
    "Xm.nursery = Xm['nursery'].replace(['yes','no'],[1,0])\n",
    "Xm.higher = Xm['higher'].replace(['yes','no'],[1,0])\n",
    "Xm.internet = Xm['internet'].replace(['yes','no'],[1,0])\n",
    "Xm.romantic = Xm['romantic'].replace(['yes','no'],[1,0])\n",
    "#Identify nominal variables\n",
    "norminal_vars = ['Fjob', 'Mjob', 'reason','guardian']\n",
    "#Convert norminal variables to dummy variables\n",
    "Xm = pd.get_dummies(Xm, columns= norminal_vars, drop_first=True)\n",
    "# Split data into training and test data sets.\n",
    "Xm_train, Xm_test, ym_train, ym_test = train_test_split(Xm, ym, test_size = 0.3, random_state=42)"
   ]
  },
  {
   "cell_type": "code",
   "execution_count": 161,
   "metadata": {},
   "outputs": [
    {
     "data": {
      "text/plain": [
       "Index(['school', 'sex', 'age', 'address', 'famsize', 'Pstatus', 'Medu', 'Fedu',\n",
       "       'traveltime', 'studytime', 'failures', 'schoolsup', 'famsup',\n",
       "       'activities', 'nursery', 'higher', 'internet', 'romantic', 'famrel',\n",
       "       'freetime', 'goout', 'health', 'absences', 'Fjob_health', 'Fjob_other',\n",
       "       'Fjob_services', 'Fjob_teacher', 'Mjob_health', 'Mjob_other',\n",
       "       'Mjob_services', 'Mjob_teacher', 'reason_home', 'reason_other',\n",
       "       'reason_reputation', 'guardian_mother', 'guardian_other'],\n",
       "      dtype='object')"
      ]
     },
     "execution_count": 161,
     "metadata": {},
     "output_type": "execute_result"
    }
   ],
   "source": [
    "Xm_train.columns"
   ]
  },
  {
   "cell_type": "code",
   "execution_count": 166,
   "metadata": {},
   "outputs": [],
   "source": [
    "#data transform\n",
    "def scale (X):\n",
    "    ### non scaled dataframe X --> scaled dataframe X\n",
    "    #seperate dummy varialbes and nondummy variables for X_train and X_test\n",
    "    X_nondummy = X[['Fedu', 'Medu', 'absences',  'age',\n",
    "       'failures', 'famrel', 'freetime', 'goout',\n",
    "       'health', 'studytime', 'traveltime']]\n",
    "    X_dummy = X[['Pstatus','activities', 'address','famsize', 'famsup','higher', 'internet', 'nursery', 'romantic', 'school',\n",
    "       'schoolsup', 'sex', 'Fjob_health',\n",
    "       'Fjob_other', 'Fjob_services', 'Fjob_teacher', 'Mjob_health',\n",
    "       'Mjob_other', 'Mjob_services', 'Mjob_teacher', 'reason_home',\n",
    "       'reason_other', 'reason_reputation', 'guardian_mother',\n",
    "       'guardian_other']]\n",
    "    #select scaler\n",
    "    scaler = MinMaxScaler()\n",
    "    #scale nondummy variables\n",
    "    scaler.fit(X_nondummy)\n",
    "    X_nondummy_scaled = scaler.transform(X_nondummy)\n",
    "    #concatenate scaled nondummy with nonscaled dummy variables\n",
    "    X_scaled = np.concatenate((X_nondummy_scaled, X_dummy.values), axis=1)\n",
    "    return X_scaled\n",
    "#Apply to Xm_train, Xm_test, Xp_train, Xp_test\n",
    "Xm_train_scaled = scale(Xm_train)\n",
    "Xm_test_scaled = scale(Xm_test)"
   ]
  },
  {
   "cell_type": "markdown",
   "metadata": {},
   "source": [
    "# Linear Regression"
   ]
  },
  {
   "cell_type": "code",
   "execution_count": 167,
   "metadata": {},
   "outputs": [
    {
     "data": {
      "text/plain": [
       "LinearRegression(copy_X=True, fit_intercept=True, n_jobs=1, normalize=False)"
      ]
     },
     "execution_count": 167,
     "metadata": {},
     "output_type": "execute_result"
    }
   ],
   "source": [
    "from  sklearn.linear_model  import LinearRegression\n",
    "regressor = LinearRegression()\n",
    "regressor.fit(Xm_train_scaled, ym_train)"
   ]
  },
  {
   "cell_type": "code",
   "execution_count": 187,
   "metadata": {},
   "outputs": [
    {
     "data": {
      "text/plain": [
       "array([ 2.34691144,  7.17676068,  8.33585756, 11.58926499,  9.95696805,\n",
       "        9.72529008, 13.2622096 , 13.30306763,  9.91712015, 13.07501891,\n",
       "       11.90651574,  9.67881388, 11.4682005 , 13.83331391, 11.15968286,\n",
       "       10.36110809,  8.9050925 ,  9.00348067, 10.08668732,  8.95290653,\n",
       "       11.54887844, 14.14462166, 11.85797606, 10.91682971, 11.40145251,\n",
       "       14.47777532, 11.36570678, 13.88718357, 12.95115343, 15.15584325,\n",
       "       11.23165389, 10.90739554, 13.86744598,  9.87072456,  9.0142301 ,\n",
       "       10.44012076,  6.32137088, 11.74584989, 12.55029608,  7.98986753,\n",
       "        4.36257533, 10.38526628, 10.55949327,  8.82935652, 11.11611333,\n",
       "       10.13317578, 11.40023772,  9.2284319 ,  9.5087628 , 13.6085457 ,\n",
       "       10.1705821 , 13.70772955, 14.60955872, 11.46560151,  8.71484285,\n",
       "        8.29541301, 12.16583764,  8.73890606, 13.63291542, 13.78429237,\n",
       "       14.66092665, 12.83805425,  0.76101747, 11.82546984,  7.80602683,\n",
       "        9.34369701,  9.61596896, 11.50749518,  8.83032123, 14.73999995,\n",
       "       10.52712007, 10.02542599, 14.34449984, 14.88637264, 10.1598248 ,\n",
       "       13.09527187, 15.15212   , 12.4027157 ,  6.41085415, 11.17921481,\n",
       "       10.43905949,  2.32133539,  8.99628108, 11.11637554,  9.33059987,\n",
       "        7.83780559,  9.30447237, 12.68383011, 11.24998881,  8.13015603,\n",
       "       13.01419168, 11.48874456, 10.10459838,  7.50838606,  8.38168787,\n",
       "       12.35515487, 11.26259302, 12.35100162, 12.52633165, 12.64120295,\n",
       "       13.59978591, 11.16427392, 10.17177103, 13.15461757, 13.07165003,\n",
       "        7.25713407,  9.17079672,  7.76185429,  9.18429394, 11.62884415,\n",
       "       11.52273487, 10.82481327, 13.04720322, 11.02450153, 11.83997114,\n",
       "       12.15173864,  6.36982589,  7.25052089, 12.29314638])"
      ]
     },
     "execution_count": 187,
     "metadata": {},
     "output_type": "execute_result"
    }
   ],
   "source": [
    "ypredict=regressor.predict(Xm_test_scaled)\n",
    "ypredict"
   ]
  },
  {
   "cell_type": "code",
   "execution_count": 181,
   "metadata": {},
   "outputs": [
    {
     "data": {
      "text/plain": [
       "(119, 36)"
      ]
     },
     "execution_count": 181,
     "metadata": {},
     "output_type": "execute_result"
    }
   ],
   "source": [
    "Xm_test_scaled.shape"
   ]
  },
  {
   "cell_type": "code",
   "execution_count": 189,
   "metadata": {},
   "outputs": [
    {
     "data": {
      "text/plain": [
       "(119,)"
      ]
     },
     "execution_count": 189,
     "metadata": {},
     "output_type": "execute_result"
    }
   ],
   "source": [
    "ypredict.shape"
   ]
  },
  {
   "cell_type": "code",
   "execution_count": 177,
   "metadata": {},
   "outputs": [
    {
     "data": {
      "text/plain": [
       "[<matplotlib.lines.Line2D at 0x27a47689400>]"
      ]
     },
     "execution_count": 177,
     "metadata": {},
     "output_type": "execute_result"
    },
    {
     "data": {
      "image/png": "[encoded data removed]",
      "text/plain": [
       "<matplotlib.figure.Figure at 0x27a4786ecf8>"
      ]
     },
     "metadata": {},
     "output_type": "display_data"
    }
   ],
   "source": [
    "plt.plot(regressor.predict(Xm_train_scaled), ym_train, color='red')"
   ]
  },
  {
   "cell_type": "code",
   "execution_count": 229,
   "metadata": {},
   "outputs": [
    {
     "name": "stdout",
     "output_type": "stream",
     "text": [
      "The mean squared error is: 17.42976067057317\n"
     ]
    }
   ],
   "source": [
    "from sklearn.metrics import mean_squared_error\n",
    "mse = mean_squared_error(ym_test, ypredict)\n",
    "print (\"The mean squared error is:\",  mse)"
   ]
  },
  {
   "cell_type": "code",
   "execution_count": 236,
   "metadata": {},
   "outputs": [
    {
     "name": "stderr",
     "output_type": "stream",
     "text": [
      "C:\\Users\\Jagrutee\\Anaconda3_1\\lib\\site-packages\\sklearn\\linear_model\\stochastic_gradient.py:128: FutureWarning: max_iter and tol parameters have been added in <class 'sklearn.linear_model.stochastic_gradient.SGDRegressor'> in 0.19. If both are left unset, they default to max_iter=5 and tol=None. If tol is not None, max_iter defaults to max_iter=1000. From 0.21, default max_iter will be 1000, and default tol will be 1e-3.\n",
      "  \"and default tol will be 1e-3.\" % type(self), FutureWarning)\n"
     ]
    },
    {
     "data": {
      "text/plain": [
       "SGDRegressor(alpha=0.0001, average=False, epsilon=0.1, eta0=0.01,\n",
       "       fit_intercept=True, l1_ratio=0.15, learning_rate='invscaling',\n",
       "       loss='squared_loss', max_iter=None, n_iter=None, penalty='l2',\n",
       "       power_t=0.25, random_state=None, shuffle=True, tol=None, verbose=0,\n",
       "       warm_start=False)"
      ]
     },
     "execution_count": 236,
     "metadata": {},
     "output_type": "execute_result"
    }
   ],
   "source": [
    "from sklearn.linear_model import SGDRegressor #using gradient descent for logistic regression\n",
    "clf = SGDRegressor()\n",
    "clf.fit(Xm_train, ym_train)\n",
    "SGDRegressor(alpha=0.0001, average=False, epsilon=0.1, eta0=0.01,\n",
    "       fit_intercept=True, l1_ratio=0.15, learning_rate='invscaling',\n",
    "       loss='squared_loss', max_iter=None, n_iter=None, penalty='l2',\n",
    "       power_t=0.25, random_state=None, shuffle=True, tol=None,\n",
    "       verbose=0, warm_start=False)"
   ]
  },
  {
   "cell_type": "code",
   "execution_count": 237,
   "metadata": {},
   "outputs": [
    {
     "data": {
      "text/plain": [
       "array([ 2.34691144,  7.17676068,  8.33585756, 11.58926499,  9.95696805,\n",
       "        9.72529008, 13.2622096 , 13.30306763,  9.91712015, 13.07501891,\n",
       "       11.90651574,  9.67881388, 11.4682005 , 13.83331391, 11.15968286,\n",
       "       10.36110809,  8.9050925 ,  9.00348067, 10.08668732,  8.95290653,\n",
       "       11.54887844, 14.14462166, 11.85797606, 10.91682971, 11.40145251,\n",
       "       14.47777532, 11.36570678, 13.88718357, 12.95115343, 15.15584325,\n",
       "       11.23165389, 10.90739554, 13.86744598,  9.87072456,  9.0142301 ,\n",
       "       10.44012076,  6.32137088, 11.74584989, 12.55029608,  7.98986753,\n",
       "        4.36257533, 10.38526628, 10.55949327,  8.82935652, 11.11611333,\n",
       "       10.13317578, 11.40023772,  9.2284319 ,  9.5087628 , 13.6085457 ,\n",
       "       10.1705821 , 13.70772955, 14.60955872, 11.46560151,  8.71484285,\n",
       "        8.29541301, 12.16583764,  8.73890606, 13.63291542, 13.78429237,\n",
       "       14.66092665, 12.83805425,  0.76101747, 11.82546984,  7.80602683,\n",
       "        9.34369701,  9.61596896, 11.50749518,  8.83032123, 14.73999995,\n",
       "       10.52712007, 10.02542599, 14.34449984, 14.88637264, 10.1598248 ,\n",
       "       13.09527187, 15.15212   , 12.4027157 ,  6.41085415, 11.17921481,\n",
       "       10.43905949,  2.32133539,  8.99628108, 11.11637554,  9.33059987,\n",
       "        7.83780559,  9.30447237, 12.68383011, 11.24998881,  8.13015603,\n",
       "       13.01419168, 11.48874456, 10.10459838,  7.50838606,  8.38168787,\n",
       "       12.35515487, 11.26259302, 12.35100162, 12.52633165, 12.64120295,\n",
       "       13.59978591, 11.16427392, 10.17177103, 13.15461757, 13.07165003,\n",
       "        7.25713407,  9.17079672,  7.76185429,  9.18429394, 11.62884415,\n",
       "       11.52273487, 10.82481327, 13.04720322, 11.02450153, 11.83997114,\n",
       "       12.15173864,  6.36982589,  7.25052089, 12.29314638])"
      ]
     },
     "execution_count": 237,
     "metadata": {},
     "output_type": "execute_result"
    }
   ],
   "source": [
    "ypredict2=regressor.predict(Xm_test_scaled)\n",
    "ypredict2"
   ]
  },
  {
   "cell_type": "code",
   "execution_count": 239,
   "metadata": {},
   "outputs": [
    {
     "name": "stdout",
     "output_type": "stream",
     "text": [
      "The mean squared error using gradient descent is: 17.42976067057317\n"
     ]
    }
   ],
   "source": [
    "mse1 = mean_squared_error(ym_test, ypredict2)\n",
    "print (\"The mean squared error using gradient descent is:\",  mse1)"
   ]
  },
  {
   "cell_type": "code",
   "execution_count": 240,
   "metadata": {},
   "outputs": [
    {
     "name": "stderr",
     "output_type": "stream",
     "text": [
      "C:\\Users\\Jagrutee\\Anaconda3_1\\lib\\site-packages\\sklearn\\linear_model\\stochastic_gradient.py:128: FutureWarning: max_iter and tol parameters have been added in <class 'sklearn.linear_model.stochastic_gradient.SGDRegressor'> in 0.19. If both are left unset, they default to max_iter=5 and tol=None. If tol is not None, max_iter defaults to max_iter=1000. From 0.21, default max_iter will be 1000, and default tol will be 1e-3.\n",
      "  \"and default tol will be 1e-3.\" % type(self), FutureWarning)\n"
     ]
    },
    {
     "data": {
      "text/plain": [
       "SGDRegressor(alpha=0.0001, average=False, epsilon=0.1, eta0=0.01,\n",
       "       fit_intercept=True, l1_ratio=0.15, learning_rate='optimal',\n",
       "       loss='squared_loss', max_iter=None, n_iter=None, penalty='l2',\n",
       "       power_t=0.25, random_state=None, shuffle=True, tol=None, verbose=0,\n",
       "       warm_start=False)"
      ]
     },
     "execution_count": 240,
     "metadata": {},
     "output_type": "execute_result"
    }
   ],
   "source": [
    "from sklearn.linear_model import SGDRegressor #using gradient descent for logistic regression\n",
    "clf = SGDRegressor()\n",
    "clf.fit(Xm_train, ym_train)\n",
    "SGDRegressor(alpha=0.0001, average=False, epsilon=0.1, eta0=0.01,\n",
    "       fit_intercept=True, l1_ratio=0.15, learning_rate='optimal',\n",
    "       loss='squared_loss', max_iter=None, n_iter=None, penalty='l2',\n",
    "       power_t=0.25, random_state=None, shuffle=True, tol=None,\n",
    "       verbose=0, warm_start=False)"
   ]
  },
  {
   "cell_type": "code",
   "execution_count": 241,
   "metadata": {},
   "outputs": [
    {
     "data": {
      "text/plain": [
       "array([ 2.34691144,  7.17676068,  8.33585756, 11.58926499,  9.95696805,\n",
       "        9.72529008, 13.2622096 , 13.30306763,  9.91712015, 13.07501891,\n",
       "       11.90651574,  9.67881388, 11.4682005 , 13.83331391, 11.15968286,\n",
       "       10.36110809,  8.9050925 ,  9.00348067, 10.08668732,  8.95290653,\n",
       "       11.54887844, 14.14462166, 11.85797606, 10.91682971, 11.40145251,\n",
       "       14.47777532, 11.36570678, 13.88718357, 12.95115343, 15.15584325,\n",
       "       11.23165389, 10.90739554, 13.86744598,  9.87072456,  9.0142301 ,\n",
       "       10.44012076,  6.32137088, 11.74584989, 12.55029608,  7.98986753,\n",
       "        4.36257533, 10.38526628, 10.55949327,  8.82935652, 11.11611333,\n",
       "       10.13317578, 11.40023772,  9.2284319 ,  9.5087628 , 13.6085457 ,\n",
       "       10.1705821 , 13.70772955, 14.60955872, 11.46560151,  8.71484285,\n",
       "        8.29541301, 12.16583764,  8.73890606, 13.63291542, 13.78429237,\n",
       "       14.66092665, 12.83805425,  0.76101747, 11.82546984,  7.80602683,\n",
       "        9.34369701,  9.61596896, 11.50749518,  8.83032123, 14.73999995,\n",
       "       10.52712007, 10.02542599, 14.34449984, 14.88637264, 10.1598248 ,\n",
       "       13.09527187, 15.15212   , 12.4027157 ,  6.41085415, 11.17921481,\n",
       "       10.43905949,  2.32133539,  8.99628108, 11.11637554,  9.33059987,\n",
       "        7.83780559,  9.30447237, 12.68383011, 11.24998881,  8.13015603,\n",
       "       13.01419168, 11.48874456, 10.10459838,  7.50838606,  8.38168787,\n",
       "       12.35515487, 11.26259302, 12.35100162, 12.52633165, 12.64120295,\n",
       "       13.59978591, 11.16427392, 10.17177103, 13.15461757, 13.07165003,\n",
       "        7.25713407,  9.17079672,  7.76185429,  9.18429394, 11.62884415,\n",
       "       11.52273487, 10.82481327, 13.04720322, 11.02450153, 11.83997114,\n",
       "       12.15173864,  6.36982589,  7.25052089, 12.29314638])"
      ]
     },
     "execution_count": 241,
     "metadata": {},
     "output_type": "execute_result"
    }
   ],
   "source": [
    "ypredict3=regressor.predict(Xm_test_scaled)\n",
    "ypredict3"
   ]
  },
  {
   "cell_type": "code",
   "execution_count": 242,
   "metadata": {},
   "outputs": [
    {
     "name": "stdout",
     "output_type": "stream",
     "text": [
      "The mean squared error using gradient descent is: 17.42976067057317\n"
     ]
    }
   ],
   "source": [
    "mse2 = mean_squared_error(ym_test, ypredict3)\n",
    "print (\"The mean squared error using gradient descent is:\",  mse2)"
   ]
  },
  {
   "cell_type": "markdown",
   "metadata": {},
   "source": [
    "The mean square error for different learning rates for gradient descent is approx 17.43 and is same for multiple regression."
   ]
  },
  {
   "cell_type": "markdown",
   "metadata": {},
   "source": [
    "# Logistic Regression / Classification"
   ]
  },
  {
   "cell_type": "code",
   "execution_count": 216,
   "metadata": {},
   "outputs": [
    {
     "data": {
      "text/plain": [
       "array([0, 0, 0, 1, 0, 1, 1, 0, 1, 1, 0, 1, 1, 1, 1, 1, 1, 0, 0, 0, 1, 1,\n",
       "       1, 1, 0, 0, 1, 1, 1, 1, 1, 1, 1, 1, 1, 0, 1, 1, 1, 1, 1, 1, 1, 1,\n",
       "       0, 0, 1, 1, 1, 0, 1, 1, 0, 1, 1, 0, 1, 1, 0, 1, 1, 1, 0, 0, 0, 1,\n",
       "       1, 0, 0, 1, 1, 0, 0, 1, 1, 0, 0, 1, 0, 0, 1, 1, 0, 1, 0, 0, 0, 1,\n",
       "       0, 0, 0, 1, 0, 0, 1, 0, 1, 0, 1, 0, 0, 1, 1, 0, 1, 1, 0, 1, 1, 1,\n",
       "       1, 0, 1, 1, 0, 1, 1, 1, 0, 1, 1, 1, 1, 1, 0, 1, 1, 0, 0, 1, 0, 0,\n",
       "       1, 1, 0, 0, 0, 0, 1, 1, 0, 0, 1, 1, 0, 1, 0, 1, 0, 0, 0, 1, 0, 0,\n",
       "       1, 0, 1, 0, 1, 1, 0, 0, 0, 0, 0, 1, 0, 1, 0, 1, 0, 1, 0, 0, 0, 0,\n",
       "       1, 0, 0, 1, 0, 1, 1, 0, 1, 1, 1, 1, 0, 0, 1, 0, 0, 0, 1, 1, 1, 0,\n",
       "       1, 0, 1, 0, 0, 0, 1, 0, 0, 1, 0, 0, 0, 1, 1, 0, 0, 1, 0, 0, 0, 0,\n",
       "       0, 0, 1, 1, 1, 0, 1, 1, 0, 1, 1, 1, 0, 1, 0, 0, 1, 1, 1, 0, 1, 1,\n",
       "       0, 1, 0, 1, 1, 0, 0, 1, 0, 0, 0, 0, 1, 0, 1, 1, 1, 0, 1, 0, 1, 0,\n",
       "       0, 1, 0, 1, 0, 0, 0, 1, 1, 1, 0, 1, 0, 0, 0, 0, 0, 0, 1, 0, 1, 1,\n",
       "       1, 1, 1, 1, 1, 1, 1, 1, 1, 1, 0, 0, 1, 1, 1, 0, 1, 1, 1, 1, 1, 0,\n",
       "       1, 0, 0, 1, 1, 1, 1, 1, 0, 0, 0, 1, 1, 0, 1, 1, 1, 1, 1, 0, 0, 1,\n",
       "       0, 1, 0, 0, 0, 1, 1, 0, 1, 0, 1, 0, 1, 0, 0, 1, 1, 0, 1, 1, 0, 1,\n",
       "       0, 0, 1, 0, 1, 1, 0, 1, 1, 1, 0, 1, 1, 0, 1, 0, 0, 1, 0, 1, 1, 0,\n",
       "       1, 0, 1, 0, 1, 0, 1, 0, 0, 0, 0, 0, 0, 0, 0, 0, 0, 1, 0, 0, 0])"
      ]
     },
     "execution_count": 216,
     "metadata": {},
     "output_type": "execute_result"
    }
   ],
   "source": [
    "gradenew = np.where(math_data['G3'] <= 10, 0, 1)\n",
    "gradenew"
   ]
  },
  {
   "cell_type": "code",
   "execution_count": 217,
   "metadata": {},
   "outputs": [],
   "source": [
    "X_train, X_test, y_train, y_test = train_test_split(Xm, gradenew, test_size = 0.3, random_state=42)"
   ]
  },
  {
   "cell_type": "code",
   "execution_count": 218,
   "metadata": {},
   "outputs": [],
   "source": [
    "X_train_scaled = scale(X_train)\n",
    "X_test_scaled = scale(X_test)"
   ]
  },
  {
   "cell_type": "code",
   "execution_count": 220,
   "metadata": {},
   "outputs": [
    {
     "data": {
      "text/plain": [
       "LogisticRegression(C=1.0, class_weight=None, dual=False, fit_intercept=True,\n",
       "          intercept_scaling=1, max_iter=100, multi_class='ovr', n_jobs=1,\n",
       "          penalty='l2', random_state=None, solver='liblinear', tol=0.0001,\n",
       "          verbose=0, warm_start=False)"
      ]
     },
     "execution_count": 220,
     "metadata": {},
     "output_type": "execute_result"
    }
   ],
   "source": [
    "from  sklearn.linear_model  import LogisticRegression\n",
    "classifier = LogisticRegression()\n",
    "classifier.fit(X_train_scaled, y_train)"
   ]
  },
  {
   "cell_type": "code",
   "execution_count": 221,
   "metadata": {},
   "outputs": [
    {
     "data": {
      "text/plain": [
       "array([0, 0, 1, 1, 0, 1, 1, 1, 0, 1, 1, 1, 1, 1, 1, 0, 1, 0, 0, 0, 1, 1,\n",
       "       1, 0, 0, 1, 1, 1, 1, 1, 0, 1, 1, 0, 1, 0, 1, 1, 1, 1, 0, 1, 1, 0,\n",
       "       1, 0, 1, 0, 0, 1, 0, 1, 1, 1, 0, 0, 1, 0, 1, 1, 1, 1, 0, 1, 0, 1,\n",
       "       0, 1, 1, 1, 1, 1, 1, 1, 1, 1, 1, 1, 0, 1, 1, 0, 0, 1, 0, 0, 0, 1,\n",
       "       1, 0, 1, 1, 0, 0, 0, 1, 1, 1, 1, 1, 1, 1, 0, 1, 1, 0, 0, 0, 0, 1,\n",
       "       1, 0, 1, 1, 0, 1, 0, 0, 1])"
      ]
     },
     "execution_count": 221,
     "metadata": {},
     "output_type": "execute_result"
    }
   ],
   "source": [
    "ypredict1=classifier.predict(X_test_scaled)\n",
    "ypredict1"
   ]
  },
  {
   "cell_type": "code",
   "execution_count": 223,
   "metadata": {},
   "outputs": [
    {
     "data": {
      "text/plain": [
       "array([[34, 29],\n",
       "       [10, 46]], dtype=int64)"
      ]
     },
     "execution_count": 223,
     "metadata": {},
     "output_type": "execute_result"
    }
   ],
   "source": [
    "from sklearn.metrics import confusion_matrix\n",
    "cm = confusion_matrix(y_test, ypredict1)\n",
    "cm"
   ]
  },
  {
   "cell_type": "code",
   "execution_count": 226,
   "metadata": {},
   "outputs": [
    {
     "data": {
      "text/plain": [
       "67.22689075630252"
      ]
     },
     "execution_count": 226,
     "metadata": {},
     "output_type": "execute_result"
    }
   ],
   "source": [
    "accuracy = (80/119)*100\n",
    "accuracy"
   ]
  },
  {
   "cell_type": "code",
   "execution_count": 230,
   "metadata": {},
   "outputs": [
    {
     "name": "stderr",
     "output_type": "stream",
     "text": [
      "C:\\Users\\Jagrutee\\Anaconda3_1\\lib\\site-packages\\sklearn\\linear_model\\stochastic_gradient.py:128: FutureWarning: max_iter and tol parameters have been added in <class 'sklearn.linear_model.stochastic_gradient.SGDClassifier'> in 0.19. If both are left unset, they default to max_iter=5 and tol=None. If tol is not None, max_iter defaults to max_iter=1000. From 0.21, default max_iter will be 1000, and default tol will be 1e-3.\n",
      "  \"and default tol will be 1e-3.\" % type(self), FutureWarning)\n"
     ]
    },
    {
     "data": {
      "text/plain": [
       "SGDClassifier(alpha=0.0001, average=False, class_weight=None, epsilon=0.1,\n",
       "       eta0=0.0, fit_intercept=True, l1_ratio=0.15,\n",
       "       learning_rate='optimal', loss='hinge', max_iter=None, n_iter=None,\n",
       "       n_jobs=1, penalty='l2', power_t=0.5, random_state=None,\n",
       "       shuffle=True, tol=None, verbose=0, warm_start=False)"
      ]
     },
     "execution_count": 230,
     "metadata": {},
     "output_type": "execute_result"
    }
   ],
   "source": [
    "from sklearn.linear_model import SGDClassifier #using gradient descent for logistic regression\n",
    "clf = SGDClassifier(loss=\"hinge\", penalty=\"l2\")\n",
    "clf.fit(X_train, y_train)\n",
    "SGDClassifier(alpha=0.0001, average=False, class_weight=None, epsilon=0.1,\n",
    "       eta0=0.0, fit_intercept=True, l1_ratio=0.15,\n",
    "       learning_rate='optimal', loss='hinge', max_iter=None, n_iter=None,\n",
    "       n_jobs=1, penalty='l2', power_t=0.5, random_state=None,\n",
    "       shuffle=True, tol=None, verbose=0, warm_start=False)"
   ]
  },
  {
   "cell_type": "code",
   "execution_count": 232,
   "metadata": {},
   "outputs": [],
   "source": [
    "ypredict2 = clf.predict(X_test_scaled)"
   ]
  },
  {
   "cell_type": "code",
   "execution_count": 233,
   "metadata": {},
   "outputs": [
    {
     "data": {
      "text/plain": [
       "array([[60,  3],\n",
       "       [55,  1]], dtype=int64)"
      ]
     },
     "execution_count": 233,
     "metadata": {},
     "output_type": "execute_result"
    }
   ],
   "source": [
    "from sklearn.metrics import confusion_matrix\n",
    "cm1 = confusion_matrix(y_test, ypredict2)\n",
    "cm1"
   ]
  },
  {
   "cell_type": "code",
   "execution_count": 234,
   "metadata": {},
   "outputs": [
    {
     "data": {
      "text/plain": [
       "51.26050420168067"
      ]
     },
     "execution_count": 234,
     "metadata": {},
     "output_type": "execute_result"
    }
   ],
   "source": [
    "accuracy = (61/119)*100\n",
    "accuracy"
   ]
  }
 ],
 "metadata": {
  "kernelspec": {
   "display_name": "Python 3",
   "language": "python",
   "name": "python3"
  },
  "language_info": {
   "codemirror_mode": {
    "name": "ipython",
    "version": 3
   },
   "file_extension": ".py",
   "mimetype": "text/x-python",
   "name": "python",
   "nbconvert_exporter": "python",
   "pygments_lexer": "ipython3",
   "version": "3.6.4"
  }
 },
 "nbformat": 4,
 "nbformat_minor": 2
}
